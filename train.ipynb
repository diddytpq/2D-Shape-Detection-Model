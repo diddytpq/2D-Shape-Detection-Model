{
 "cells": [
  {
   "cell_type": "code",
   "execution_count": 153,
   "metadata": {},
   "outputs": [],
   "source": [
    "import tensorflow.keras as keras\n",
    "import cv2\n",
    "import matplotlib.pyplot as plt\n",
    "import numpy as np"
   ]
  },
  {
   "cell_type": "code",
   "execution_count": 54,
   "metadata": {},
   "outputs": [
    {
     "name": "stdout",
     "output_type": "stream",
     "text": [
      "(100, 100)\n"
     ]
    }
   ],
   "source": [
    "np.random.seed(0)\n",
    "\n"
   ]
  },
  {
   "cell_type": "code",
   "execution_count": 128,
   "metadata": {},
   "outputs": [],
   "source": [
    "train_datagen=keras.preprocessing.image.ImageDataGenerator(rescale=1./255,\n",
    "                                                          rotation_range=45,\n",
    "                                                           zoom_range=0.2,\n",
    "                                                           fill_mode='nearest'\n",
    "                                                          )\n",
    "test_datagen=keras.preprocessing.image.ImageDataGenerator(rescale=1./255)"
   ]
  },
  {
   "cell_type": "code",
   "execution_count": 132,
   "metadata": {},
   "outputs": [
    {
     "name": "stdout",
     "output_type": "stream",
     "text": [
      "done\n"
     ]
    }
   ],
   "source": [
    "for i in range(1,2):\n",
    "    if i<10:\n",
    "        img=cv2.imread('dataset/train_gray/1_rectangle/rectangle_0{}.png'.format(i),0)\n",
    "    else:\n",
    "        img=cv2.imread('dataset/train_gray/1_rectangle/rectangle_{}.png'.format(i),0)\n",
    "        \n",
    "    img_data=img.reshape(1,100,100,1)\n",
    "    \n",
    "    cnt=0\n",
    "    \n",
    "    for batch in train_datagen.flow(img_data,batch_size=1,\n",
    "                               save_to_dir='dataset/train_gen/',\n",
    "                               save_prefix='rectangle',\n",
    "                               save_format='png'):\n",
    "        cnt+=1\n",
    "        if cnt>5:\n",
    "            print('done')\n",
    "            break"
   ]
  },
  {
   "cell_type": "code",
   "execution_count": 143,
   "metadata": {},
   "outputs": [
    {
     "name": "stdout",
     "output_type": "stream",
     "text": [
      "Found 1650 images belonging to 3 classes.\n",
      "Found 15 images belonging to 3 classes.\n"
     ]
    }
   ],
   "source": [
    "train_datagen=keras.preprocessing.image.ImageDataGenerator(rescale=1./255)\n",
    "\n",
    "test_datagen=keras.preprocessing.image.ImageDataGenerator(rescale=1./255)\n",
    "\n",
    "train_generator=train_datagen.flow_from_directory('dataset/train_gen',\n",
    "                                                 target_size=(100,100),\n",
    "                                                 batch_size=10,\n",
    "                                                 color_mode='grayscale',\n",
    "                                                 class_mode='categorical')\n",
    "test_generator=test_datagen.flow_from_directory('dataset/test',\n",
    "                                                 target_size=(100,100),\n",
    "                                                 batch_size=5,\n",
    "                                                 color_mode='grayscale',\n",
    "                                                 class_mode='categorical')\n"
   ]
  },
  {
   "cell_type": "code",
   "execution_count": 139,
   "metadata": {},
   "outputs": [
    {
     "name": "stdout",
     "output_type": "stream",
     "text": [
      "Model: \"sequential_7\"\n",
      "_________________________________________________________________\n",
      "Layer (type)                 Output Shape              Param #   \n",
      "=================================================================\n",
      "conv2d_14 (Conv2D)           (None, 100, 100, 64)      1664      \n",
      "_________________________________________________________________\n",
      "max_pooling2d_12 (MaxPooling (None, 50, 50, 64)        0         \n",
      "_________________________________________________________________\n",
      "conv2d_15 (Conv2D)           (None, 50, 50, 32)        51232     \n",
      "_________________________________________________________________\n",
      "max_pooling2d_13 (MaxPooling (None, 25, 25, 32)        0         \n",
      "_________________________________________________________________\n",
      "flatten_7 (Flatten)          (None, 20000)             0         \n",
      "_________________________________________________________________\n",
      "dense_14 (Dense)             (None, 32)                640032    \n",
      "_________________________________________________________________\n",
      "dense_15 (Dense)             (None, 3)                 99        \n",
      "=================================================================\n",
      "Total params: 693,027\n",
      "Trainable params: 693,027\n",
      "Non-trainable params: 0\n",
      "_________________________________________________________________\n"
     ]
    }
   ],
   "source": [
    "model=keras.Sequential()\n",
    "model.add(keras.layers.Conv2D(64,kernel_size=(5,5),padding='same',input_shape=(100,100,1),activation='relu'))\n",
    "model.add(keras.layers.MaxPooling2D(pool_size=(2,2)))\n",
    "\n",
    "model.add(keras.layers.Conv2D(32,kernel_size=(5,5),padding='same',activation='relu'))\n",
    "model.add(keras.layers.MaxPooling2D(pool_size=(2,2)))\n",
    "\n",
    "model.add(keras.layers.Flatten())\n",
    "\n",
    "model.add(keras.layers.Dense(32,activation='relu'))\n",
    "model.add(keras.layers.Dense(3,activation='softmax'))\n",
    "model.compile(loss='categorical_crossentropy',optimizer=keras.optimizers.Adam(0.001),metrics=['accuracy'])\n",
    "model.summary()"
   ]
  },
  {
   "cell_type": "code",
   "execution_count": 149,
   "metadata": {},
   "outputs": [
    {
     "name": "stdout",
     "output_type": "stream",
     "text": [
      "WARNING:tensorflow:sample_weight modes were coerced from\n",
      "  ...\n",
      "    to  \n",
      "  ['...']\n",
      "Train for 10 steps\n",
      "Epoch 1/100\n",
      "10/10 [==============================] - 1s 117ms/step - loss: 0.0336 - accuracy: 0.9800\n",
      "Epoch 2/100\n",
      "10/10 [==============================] - 1s 104ms/step - loss: 0.0149 - accuracy: 0.9900\n",
      "Epoch 3/100\n",
      "10/10 [==============================] - 1s 107ms/step - loss: 0.0491 - accuracy: 0.9900\n",
      "Epoch 4/100\n",
      "10/10 [==============================] - 1s 103ms/step - loss: 0.0430 - accuracy: 0.9800\n",
      "Epoch 5/100\n",
      "10/10 [==============================] - 1s 103ms/step - loss: 0.0221 - accuracy: 0.9800\n",
      "Epoch 6/100\n",
      "10/10 [==============================] - 1s 102ms/step - loss: 0.0029 - accuracy: 1.0000\n",
      "Epoch 7/100\n",
      "10/10 [==============================] - 1s 103ms/step - loss: 0.0088 - accuracy: 1.0000\n",
      "Epoch 8/100\n",
      "10/10 [==============================] - 1s 104ms/step - loss: 0.0026 - accuracy: 1.0000\n",
      "Epoch 9/100\n",
      "10/10 [==============================] - 1s 103ms/step - loss: 0.0101 - accuracy: 1.0000\n",
      "Epoch 10/100\n",
      "10/10 [==============================] - 1s 113ms/step - loss: 0.0115 - accuracy: 1.0000\n",
      "Epoch 11/100\n",
      "10/10 [==============================] - 1s 116ms/step - loss: 7.0007e-04 - accuracy: 1.0000\n",
      "Epoch 12/100\n",
      "10/10 [==============================] - 1s 119ms/step - loss: 0.0031 - accuracy: 1.0000\n",
      "Epoch 13/100\n",
      "10/10 [==============================] - 1s 112ms/step - loss: 0.0079 - accuracy: 1.0000\n",
      "Epoch 14/100\n",
      "10/10 [==============================] - 1s 111ms/step - loss: 0.0015 - accuracy: 1.0000\n",
      "Epoch 15/100\n",
      "10/10 [==============================] - 1s 114ms/step - loss: 0.0039 - accuracy: 1.0000\n",
      "Epoch 16/100\n",
      "10/10 [==============================] - 1s 115ms/step - loss: 0.0016 - accuracy: 1.0000\n",
      "Epoch 17/100\n",
      "10/10 [==============================] - 1s 110ms/step - loss: 0.0010 - accuracy: 1.0000\n",
      "Epoch 18/100\n",
      "10/10 [==============================] - 1s 111ms/step - loss: 8.5570e-04 - accuracy: 1.0000\n",
      "Epoch 19/100\n",
      "10/10 [==============================] - 1s 109ms/step - loss: 0.0037 - accuracy: 1.0000\n",
      "Epoch 20/100\n",
      "10/10 [==============================] - 1s 113ms/step - loss: 0.0011 - accuracy: 1.0000\n",
      "Epoch 21/100\n",
      "10/10 [==============================] - 1s 111ms/step - loss: 5.7726e-04 - accuracy: 1.0000\n",
      "Epoch 22/100\n",
      "10/10 [==============================] - 1s 112ms/step - loss: 0.0026 - accuracy: 1.0000\n",
      "Epoch 23/100\n",
      "10/10 [==============================] - 1s 113ms/step - loss: 0.0014 - accuracy: 1.0000\n",
      "Epoch 24/100\n",
      "10/10 [==============================] - 1s 115ms/step - loss: 7.0347e-04 - accuracy: 1.0000\n",
      "Epoch 25/100\n",
      "10/10 [==============================] - 1s 117ms/step - loss: 6.8976e-04 - accuracy: 1.0000\n",
      "Epoch 26/100\n",
      "10/10 [==============================] - 1s 118ms/step - loss: 0.0028 - accuracy: 1.0000\n",
      "Epoch 27/100\n",
      "10/10 [==============================] - 1s 117ms/step - loss: 3.5393e-04 - accuracy: 1.0000\n",
      "Epoch 28/100\n",
      "10/10 [==============================] - 1s 122ms/step - loss: 4.0982e-04 - accuracy: 1.0000\n",
      "Epoch 29/100\n",
      "10/10 [==============================] - 1s 120ms/step - loss: 0.0017 - accuracy: 1.0000\n",
      "Epoch 30/100\n",
      "10/10 [==============================] - 1s 119ms/step - loss: 5.2636e-04 - accuracy: 1.0000\n",
      "Epoch 31/100\n",
      "10/10 [==============================] - 1s 113ms/step - loss: 0.0019 - accuracy: 1.0000\n",
      "Epoch 32/100\n",
      "10/10 [==============================] - 1s 110ms/step - loss: 1.0042e-04 - accuracy: 1.0000\n",
      "Epoch 33/100\n",
      "10/10 [==============================] - 1s 115ms/step - loss: 0.0012 - accuracy: 1.0000\n",
      "Epoch 34/100\n",
      "10/10 [==============================] - 1s 116ms/step - loss: 7.7046e-04 - accuracy: 1.0000\n",
      "Epoch 35/100\n",
      "10/10 [==============================] - 1s 118ms/step - loss: 7.2410e-04 - accuracy: 1.0000\n",
      "Epoch 36/100\n",
      "10/10 [==============================] - 1s 122ms/step - loss: 0.0016 - accuracy: 1.0000\n",
      "Epoch 37/100\n",
      "10/10 [==============================] - 1s 119ms/step - loss: 2.6118e-04 - accuracy: 1.0000\n",
      "Epoch 38/100\n",
      "10/10 [==============================] - 1s 114ms/step - loss: 0.0017 - accuracy: 1.0000\n",
      "Epoch 39/100\n",
      "10/10 [==============================] - 1s 110ms/step - loss: 0.0035 - accuracy: 1.0000\n",
      "Epoch 40/100\n",
      "10/10 [==============================] - 1s 117ms/step - loss: 0.0014 - accuracy: 1.0000\n",
      "Epoch 41/100\n",
      "10/10 [==============================] - 1s 110ms/step - loss: 0.0023 - accuracy: 1.0000\n",
      "Epoch 42/100\n",
      "10/10 [==============================] - 1s 117ms/step - loss: 0.0462 - accuracy: 0.9900\n",
      "Epoch 43/100\n",
      "10/10 [==============================] - 1s 122ms/step - loss: 0.0178 - accuracy: 1.0000\n",
      "Epoch 44/100\n",
      "10/10 [==============================] - 1s 116ms/step - loss: 0.0104 - accuracy: 0.9900\n",
      "Epoch 45/100\n",
      "10/10 [==============================] - 1s 117ms/step - loss: 0.0075 - accuracy: 1.0000\n",
      "Epoch 46/100\n",
      "10/10 [==============================] - 1s 117ms/step - loss: 0.0163 - accuracy: 0.9900\n",
      "Epoch 47/100\n",
      "10/10 [==============================] - 1s 118ms/step - loss: 0.0094 - accuracy: 1.0000\n",
      "Epoch 48/100\n",
      "10/10 [==============================] - 1s 116ms/step - loss: 0.0025 - accuracy: 1.0000\n",
      "Epoch 49/100\n",
      "10/10 [==============================] - 1s 115ms/step - loss: 0.0058 - accuracy: 1.0000\n",
      "Epoch 50/100\n",
      "10/10 [==============================] - 1s 113ms/step - loss: 0.0048 - accuracy: 1.0000\n",
      "Epoch 51/100\n",
      "10/10 [==============================] - 1s 120ms/step - loss: 0.0033 - accuracy: 1.0000\n",
      "Epoch 52/100\n",
      "10/10 [==============================] - 1s 127ms/step - loss: 0.0027 - accuracy: 1.0000\n",
      "Epoch 53/100\n",
      "10/10 [==============================] - 1s 123ms/step - loss: 0.0018 - accuracy: 1.0000\n",
      "Epoch 54/100\n",
      "10/10 [==============================] - 1s 122ms/step - loss: 5.9028e-04 - accuracy: 1.0000\n",
      "Epoch 55/100\n",
      "10/10 [==============================] - 1s 120ms/step - loss: 0.0015 - accuracy: 1.0000\n",
      "Epoch 56/100\n",
      "10/10 [==============================] - 1s 111ms/step - loss: 2.9316e-04 - accuracy: 1.0000\n",
      "Epoch 57/100\n",
      "10/10 [==============================] - 1s 112ms/step - loss: 1.9822e-04 - accuracy: 1.0000\n",
      "Epoch 58/100\n",
      "10/10 [==============================] - 1s 113ms/step - loss: 2.7617e-04 - accuracy: 1.0000\n",
      "Epoch 59/100\n",
      "10/10 [==============================] - 1s 114ms/step - loss: 3.1687e-04 - accuracy: 1.0000\n",
      "Epoch 60/100\n",
      "10/10 [==============================] - 1s 119ms/step - loss: 1.8755e-04 - accuracy: 1.0000\n",
      "Epoch 61/100\n",
      "10/10 [==============================] - 1s 118ms/step - loss: 4.8311e-04 - accuracy: 1.0000\n",
      "Epoch 62/100\n",
      "10/10 [==============================] - 1s 114ms/step - loss: 0.0010 - accuracy: 1.0000\n",
      "Epoch 63/100\n",
      "10/10 [==============================] - 1s 114ms/step - loss: 3.4369e-04 - accuracy: 1.0000\n",
      "Epoch 64/100\n",
      "10/10 [==============================] - 1s 120ms/step - loss: 3.2391e-04 - accuracy: 1.0000\n",
      "Epoch 65/100\n",
      "10/10 [==============================] - 1s 120ms/step - loss: 0.0011 - accuracy: 1.0000\n",
      "Epoch 66/100\n",
      "10/10 [==============================] - 1s 126ms/step - loss: 7.0673e-04 - accuracy: 1.0000\n",
      "Epoch 67/100\n",
      "10/10 [==============================] - 1s 127ms/step - loss: 5.9661e-04 - accuracy: 1.0000\n",
      "Epoch 68/100\n",
      "10/10 [==============================] - 1s 123ms/step - loss: 9.8166e-04 - accuracy: 1.0000\n",
      "Epoch 69/100\n",
      "10/10 [==============================] - 1s 118ms/step - loss: 2.8442e-04 - accuracy: 1.0000\n",
      "Epoch 70/100\n",
      "10/10 [==============================] - 1s 117ms/step - loss: 3.0571e-04 - accuracy: 1.0000\n",
      "Epoch 71/100\n",
      "10/10 [==============================] - 1s 120ms/step - loss: 1.8491e-04 - accuracy: 1.0000\n",
      "Epoch 72/100\n",
      "10/10 [==============================] - 1s 118ms/step - loss: 3.1682e-04 - accuracy: 1.0000\n",
      "Epoch 73/100\n",
      "10/10 [==============================] - 1s 114ms/step - loss: 1.3536e-04 - accuracy: 1.0000\n",
      "Epoch 74/100\n",
      "10/10 [==============================] - 1s 110ms/step - loss: 1.4493e-04 - accuracy: 1.0000\n",
      "Epoch 75/100\n",
      "10/10 [==============================] - 1s 113ms/step - loss: 3.9648e-04 - accuracy: 1.0000\n",
      "Epoch 76/100\n",
      "10/10 [==============================] - 1s 117ms/step - loss: 1.1515e-04 - accuracy: 1.0000\n",
      "Epoch 77/100\n",
      "10/10 [==============================] - 1s 118ms/step - loss: 5.2873e-04 - accuracy: 1.0000\n",
      "Epoch 78/100\n",
      "10/10 [==============================] - 1s 122ms/step - loss: 2.8793e-04 - accuracy: 1.0000\n",
      "Epoch 79/100\n"
     ]
    },
    {
     "name": "stdout",
     "output_type": "stream",
     "text": [
      "10/10 [==============================] - 1s 121ms/step - loss: 4.8923e-04 - accuracy: 1.0000\n",
      "Epoch 80/100\n",
      "10/10 [==============================] - 1s 120ms/step - loss: 1.7009e-04 - accuracy: 1.0000\n",
      "Epoch 81/100\n",
      "10/10 [==============================] - 1s 115ms/step - loss: 2.0903e-04 - accuracy: 1.0000\n",
      "Epoch 82/100\n",
      "10/10 [==============================] - 1s 114ms/step - loss: 7.2087e-04 - accuracy: 1.0000\n",
      "Epoch 83/100\n",
      "10/10 [==============================] - 1s 111ms/step - loss: 3.9060e-04 - accuracy: 1.0000\n",
      "Epoch 84/100\n",
      "10/10 [==============================] - 1s 114ms/step - loss: 2.7973e-04 - accuracy: 1.0000\n",
      "Epoch 85/100\n",
      "10/10 [==============================] - 1s 116ms/step - loss: 1.3285e-04 - accuracy: 1.0000\n",
      "Epoch 86/100\n",
      "10/10 [==============================] - 1s 114ms/step - loss: 1.9562e-04 - accuracy: 1.0000\n",
      "Epoch 87/100\n",
      "10/10 [==============================] - 1s 114ms/step - loss: 3.5108e-04 - accuracy: 1.0000\n",
      "Epoch 88/100\n",
      "10/10 [==============================] - 1s 115ms/step - loss: 2.8826e-04 - accuracy: 1.0000\n",
      "Epoch 89/100\n",
      "10/10 [==============================] - 1s 119ms/step - loss: 1.4217e-04 - accuracy: 1.0000\n",
      "Epoch 90/100\n",
      "10/10 [==============================] - 1s 118ms/step - loss: 1.4782e-04 - accuracy: 1.0000\n",
      "Epoch 91/100\n",
      "10/10 [==============================] - 1s 118ms/step - loss: 1.9927e-04 - accuracy: 1.0000\n",
      "Epoch 92/100\n",
      "10/10 [==============================] - 1s 118ms/step - loss: 5.2863e-04 - accuracy: 1.0000\n",
      "Epoch 93/100\n",
      "10/10 [==============================] - 1s 116ms/step - loss: 3.4613e-04 - accuracy: 1.0000\n",
      "Epoch 94/100\n",
      "10/10 [==============================] - 1s 115ms/step - loss: 7.5837e-05 - accuracy: 1.0000\n",
      "Epoch 95/100\n",
      "10/10 [==============================] - 1s 114ms/step - loss: 1.9298e-04 - accuracy: 1.0000\n",
      "Epoch 96/100\n",
      "10/10 [==============================] - 1s 114ms/step - loss: 1.3766e-04 - accuracy: 1.0000\n",
      "Epoch 97/100\n",
      "10/10 [==============================] - 1s 114ms/step - loss: 1.2741e-04 - accuracy: 1.0000\n",
      "Epoch 98/100\n",
      "10/10 [==============================] - 1s 110ms/step - loss: 1.0484e-04 - accuracy: 1.0000\n",
      "Epoch 99/100\n",
      "10/10 [==============================] - 1s 112ms/step - loss: 3.8271e-04 - accuracy: 1.0000\n",
      "Epoch 100/100\n",
      "10/10 [==============================] - 1s 115ms/step - loss: 1.4065e-04 - accuracy: 1.0000\n"
     ]
    },
    {
     "data": {
      "text/plain": [
       "<tensorflow.python.keras.callbacks.History at 0x14297d9b0>"
      ]
     },
     "execution_count": 149,
     "metadata": {},
     "output_type": "execute_result"
    }
   ],
   "source": [
    "callback=keras.callbacks.TensorBoard(log_dir='logs/1.0',histogram_freq=1)\n",
    "model.fit_generator(train_generator,steps_per_epoch=10,epochs=100,callbacks=[callback])"
   ]
  },
  {
   "cell_type": "code",
   "execution_count": 147,
   "metadata": {},
   "outputs": [],
   "source": [
    "model.save('model/model_v1.0.h5') #loss: 0.0929 - accuracy: 0.9700"
   ]
  },
  {
   "cell_type": "code",
   "execution_count": 150,
   "metadata": {},
   "outputs": [],
   "source": [
    "model.save('model/model_v1.2.h5') #loss: 1.4065e-04 - accuracy: 1.0000"
   ]
  },
  {
   "cell_type": "code",
   "execution_count": 25,
   "metadata": {},
   "outputs": [
    {
     "name": "stdout",
     "output_type": "stream",
     "text": [
      "(100, 100)\n"
     ]
    }
   ],
   "source": []
  },
  {
   "cell_type": "code",
   "execution_count": 166,
   "metadata": {},
   "outputs": [
    {
     "name": "stdout",
     "output_type": "stream",
     "text": [
      "3\n"
     ]
    }
   ],
   "source": [
    "a=np.array([[1,2,3],[4,5,6]])\n",
    "print(a[0][2])"
   ]
  },
  {
   "cell_type": "code",
   "execution_count": null,
   "metadata": {},
   "outputs": [],
   "source": []
  }
 ],
 "metadata": {
  "kernelspec": {
   "display_name": "Python 3",
   "language": "python",
   "name": "python3"
  },
  "language_info": {
   "codemirror_mode": {
    "name": "ipython",
    "version": 3
   },
   "file_extension": ".py",
   "mimetype": "text/x-python",
   "name": "python",
   "nbconvert_exporter": "python",
   "pygments_lexer": "ipython3",
   "version": "3.7.0"
  }
 },
 "nbformat": 4,
 "nbformat_minor": 4
}
