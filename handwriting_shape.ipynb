{
 "cells": [
  {
   "cell_type": "code",
   "execution_count": 4,
   "metadata": {},
   "outputs": [
    {
     "data": {
      "text/plain": [
       "'\\n삼격형 사각형 원 이미지를 구분하는 신경망\\n다중 클래스 분류\\n입력: 손으로 그린 도형 (24,24,3)\\n출력: 삼각형, 사각형, 원일 확률을 나타내는 벡터'"
      ]
     },
     "execution_count": 4,
     "metadata": {},
     "output_type": "execute_result"
    }
   ],
   "source": [
    "import tensorflow.keras as keras\n",
    "import numpy as np\n",
    "import matplotlib.pyplot as plt\n",
    "import cv2\n",
    "\n",
    "'''\n",
    "삼격형 사각형 원 이미지를 구분하는 신경망\n",
    "다중 클래스 분류\n",
    "입력: 손으로 그린 도형 (24,24,3)\n",
    "출력: 삼각형, 사각형, 원일 확률을 나타내는 벡터'''"
   ]
  },
  {
   "cell_type": "code",
   "execution_count": 18,
   "metadata": {},
   "outputs": [
    {
     "name": "stdout",
     "output_type": "stream",
     "text": [
      "Found 45 images belonging to 3 classes.\n"
     ]
    }
   ],
   "source": [
    "np.random.seed(5)\n",
    "train_datagen=tf.keras.preprocessing.image.ImageDataGenerator(rescale=1./255)\n",
    "train_generator=train_datagen.flow_from_directory('dataset/handwriting_shape/train',\n",
    "                                                              target_size=(24,24),\n",
    "                                                              batch_size=3,\n",
    "                                                              class_mode='categorical')\n"
   ]
  },
  {
   "cell_type": "code",
   "execution_count": 19,
   "metadata": {},
   "outputs": [],
   "source": [
    "cnn_model=tf.keras.Sequential()\n",
    "\n",
    "cnn_model.add(tf.keras.layers.Conv2D(32,kernel_size=(3,3),input_shape=(24,24,3),activation='relu'))\n",
    "cnn_model.add(tf.keras.layers.Conv2D(64,(3,3),activation='relu'))\n",
    "cnn_model.add(tf.keras.layers.MaxPooling2D(pool_size=(2,2)))\n",
    "\n",
    "cnn_model.add(tf.keras.layers.Flatten())\n",
    "cnn_model.add(tf.keras.layers.Dense(128,activation='relu'))\n",
    "cnn_model.add(tf.keras.layers.Dense(3,activation='softmax'))\n",
    "\n",
    "cnn_model.compile(loss='categorical_crossentropy',optimizer=tf.keras.optimizers.Adam(0.01),metrics=['accuracy'])"
   ]
  },
  {
   "cell_type": "code",
   "execution_count": 20,
   "metadata": {},
   "outputs": [
    {
     "name": "stdout",
     "output_type": "stream",
     "text": [
      "WARNING:tensorflow:sample_weight modes were coerced from\n",
      "  ...\n",
      "    to  \n",
      "  ['...']\n",
      "Train for 15 steps\n",
      "Epoch 1/50\n",
      "15/15 [==============================] - 0s 27ms/step - loss: 2.7776 - accuracy: 0.4000\n",
      "Epoch 2/50\n",
      "15/15 [==============================] - 0s 8ms/step - loss: 0.2997 - accuracy: 0.9333\n",
      "Epoch 3/50\n",
      "15/15 [==============================] - 0s 9ms/step - loss: 0.3433 - accuracy: 0.8889\n",
      "Epoch 4/50\n",
      "15/15 [==============================] - 0s 9ms/step - loss: 0.1192 - accuracy: 0.9556\n",
      "Epoch 5/50\n",
      "15/15 [==============================] - 0s 9ms/step - loss: 0.0057 - accuracy: 1.0000\n",
      "Epoch 6/50\n",
      "15/15 [==============================] - 0s 9ms/step - loss: 2.6866e-04 - accuracy: 1.0000\n",
      "Epoch 7/50\n",
      "15/15 [==============================] - 0s 11ms/step - loss: 1.2458e-04 - accuracy: 1.0000\n",
      "Epoch 8/50\n",
      "15/15 [==============================] - 0s 9ms/step - loss: 6.7501e-05 - accuracy: 1.0000\n",
      "Epoch 9/50\n",
      "15/15 [==============================] - 0s 8ms/step - loss: 5.2777e-05 - accuracy: 1.0000\n",
      "Epoch 10/50\n",
      "15/15 [==============================] - 0s 8ms/step - loss: 4.1940e-05 - accuracy: 1.0000\n",
      "Epoch 11/50\n",
      "15/15 [==============================] - 0s 9ms/step - loss: 3.3915e-05 - accuracy: 1.0000\n",
      "Epoch 12/50\n",
      "15/15 [==============================] - 0s 9ms/step - loss: 2.7938e-05 - accuracy: 1.0000\n",
      "Epoch 13/50\n",
      "15/15 [==============================] - 0s 8ms/step - loss: 2.4591e-05 - accuracy: 1.0000\n",
      "Epoch 14/50\n",
      "15/15 [==============================] - 0s 8ms/step - loss: 2.1159e-05 - accuracy: 1.0000\n",
      "Epoch 15/50\n",
      "15/15 [==============================] - 0s 8ms/step - loss: 1.8364e-05 - accuracy: 1.0000\n",
      "Epoch 16/50\n",
      "15/15 [==============================] - 0s 8ms/step - loss: 1.6118e-05 - accuracy: 1.0000\n",
      "Epoch 17/50\n",
      "15/15 [==============================] - 0s 8ms/step - loss: 1.4725e-05 - accuracy: 1.0000\n",
      "Epoch 18/50\n",
      "15/15 [==============================] - 0s 8ms/step - loss: 1.3234e-05 - accuracy: 1.0000\n",
      "Epoch 19/50\n",
      "15/15 [==============================] - 0s 8ms/step - loss: 1.1661e-05 - accuracy: 1.0000\n",
      "Epoch 20/50\n",
      "15/15 [==============================] - 0s 8ms/step - loss: 1.0678e-05 - accuracy: 1.0000\n",
      "Epoch 21/50\n",
      "15/15 [==============================] - 0s 8ms/step - loss: 9.8012e-06 - accuracy: 1.0000\n",
      "Epoch 22/50\n",
      "15/15 [==============================] - 0s 8ms/step - loss: 9.1205e-06 - accuracy: 1.0000\n",
      "Epoch 23/50\n",
      "15/15 [==============================] - 0s 8ms/step - loss: 8.1616e-06 - accuracy: 1.0000\n",
      "Epoch 24/50\n",
      "15/15 [==============================] - 0s 9ms/step - loss: 7.4649e-06 - accuracy: 1.0000\n",
      "Epoch 25/50\n",
      "15/15 [==============================] - 0s 9ms/step - loss: 7.0278e-06 - accuracy: 1.0000\n",
      "Epoch 26/50\n",
      "15/15 [==============================] - 0s 8ms/step - loss: 6.3868e-06 - accuracy: 1.0000\n",
      "Epoch 27/50\n",
      "15/15 [==============================] - 0s 8ms/step - loss: 5.8967e-06 - accuracy: 1.0000\n",
      "Epoch 28/50\n",
      "15/15 [==============================] - 0s 8ms/step - loss: 5.5577e-06 - accuracy: 1.0000\n",
      "Epoch 29/50\n",
      "15/15 [==============================] - 0s 9ms/step - loss: 5.0597e-06 - accuracy: 1.0000\n",
      "Epoch 30/50\n",
      "15/15 [==============================] - 0s 9ms/step - loss: 4.7444e-06 - accuracy: 1.0000\n",
      "Epoch 31/50\n",
      "15/15 [==============================] - 0s 8ms/step - loss: 4.4689e-06 - accuracy: 1.0000\n",
      "Epoch 32/50\n",
      "15/15 [==============================] - 0s 8ms/step - loss: 4.1325e-06 - accuracy: 1.0000\n",
      "Epoch 33/50\n",
      "15/15 [==============================] - 0s 8ms/step - loss: 3.8332e-06 - accuracy: 1.0000\n",
      "Epoch 34/50\n",
      "15/15 [==============================] - 0s 9ms/step - loss: 3.6345e-06 - accuracy: 1.0000\n",
      "Epoch 35/50\n",
      "15/15 [==============================] - 0s 9ms/step - loss: 3.3908e-06 - accuracy: 1.0000\n",
      "Epoch 36/50\n",
      "15/15 [==============================] - 0s 8ms/step - loss: 3.1418e-06 - accuracy: 1.0000\n",
      "Epoch 37/50\n",
      "15/15 [==============================] - 0s 8ms/step - loss: 2.9643e-06 - accuracy: 1.0000\n",
      "Epoch 38/50\n",
      "15/15 [==============================] - 0s 8ms/step - loss: 2.8160e-06 - accuracy: 1.0000\n",
      "Epoch 39/50\n",
      "15/15 [==============================] - 0s 9ms/step - loss: 2.6438e-06 - accuracy: 1.0000\n",
      "Epoch 40/50\n",
      "15/15 [==============================] - 0s 8ms/step - loss: 2.4769e-06 - accuracy: 1.0000\n",
      "Epoch 41/50\n",
      "15/15 [==============================] - 0s 8ms/step - loss: 2.3338e-06 - accuracy: 1.0000\n",
      "Epoch 42/50\n",
      "15/15 [==============================] - 0s 8ms/step - loss: 2.1908e-06 - accuracy: 1.0000\n",
      "Epoch 43/50\n",
      "15/15 [==============================] - 0s 8ms/step - loss: 2.0795e-06 - accuracy: 1.0000\n",
      "Epoch 44/50\n",
      "15/15 [==============================] - 0s 8ms/step - loss: 1.9683e-06 - accuracy: 1.0000\n",
      "Epoch 45/50\n",
      "15/15 [==============================] - 0s 8ms/step - loss: 1.8570e-06 - accuracy: 1.0000\n",
      "Epoch 46/50\n",
      "15/15 [==============================] - 0s 8ms/step - loss: 1.7802e-06 - accuracy: 1.0000\n",
      "Epoch 47/50\n",
      "15/15 [==============================] - 0s 8ms/step - loss: 1.6981e-06 - accuracy: 1.0000\n",
      "Epoch 48/50\n",
      "15/15 [==============================] - 0s 8ms/step - loss: 1.6106e-06 - accuracy: 1.0000\n",
      "Epoch 49/50\n",
      "15/15 [==============================] - 0s 8ms/step - loss: 1.5312e-06 - accuracy: 1.0000\n",
      "Epoch 50/50\n",
      "15/15 [==============================] - 0s 8ms/step - loss: 1.4464e-06 - accuracy: 1.0000\n"
     ]
    },
    {
     "data": {
      "text/plain": [
       "<tensorflow.python.keras.callbacks.History at 0x14b8e4c50>"
      ]
     },
     "execution_count": 20,
     "metadata": {},
     "output_type": "execute_result"
    }
   ],
   "source": [
    "cnn_model.fit_generator(train_generator,steps_per_epoch=15,epochs=50)"
   ]
  },
  {
   "cell_type": "code",
   "execution_count": 58,
   "metadata": {},
   "outputs": [
    {
     "ename": "NameError",
     "evalue": "name 'cnn_model' is not defined",
     "output_type": "error",
     "traceback": [
      "\u001b[0;31m---------------------------------------------------------------------------\u001b[0m",
      "\u001b[0;31mNameError\u001b[0m                                 Traceback (most recent call last)",
      "\u001b[0;32m<ipython-input-58-1c7b9da4749a>\u001b[0m in \u001b[0;36m<module>\u001b[0;34m\u001b[0m\n\u001b[0;32m----> 1\u001b[0;31m \u001b[0mcnn_model\u001b[0m\u001b[0;34m.\u001b[0m\u001b[0msave\u001b[0m\u001b[0;34m(\u001b[0m\u001b[0;34m'model/handwriting_shape.h5'\u001b[0m\u001b[0;34m)\u001b[0m\u001b[0;34m\u001b[0m\u001b[0;34m\u001b[0m\u001b[0m\n\u001b[0m",
      "\u001b[0;31mNameError\u001b[0m: name 'cnn_model' is not defined"
     ]
    }
   ],
   "source": [
    "cnn_model.save('model/handwriting_shape.h5')"
   ]
  },
  {
   "cell_type": "code",
   "execution_count": 61,
   "metadata": {},
   "outputs": [
    {
     "name": "stdout",
     "output_type": "stream",
     "text": [
      "[[0.361571   0.09387943 0.5445496 ]]\n",
      "triangle\n"
     ]
    },
    {
     "data": {
      "image/png": "[encoded data removed]",
      "text/plain": [
       "<Figure size 432x288 with 1 Axes>"
      ]
     },
     "metadata": {
      "needs_background": "light"
     },
     "output_type": "display_data"
    }
   ],
   "source": [
    "cnn_model=keras.models.load_model('model/handwriting_shape.h5')\n",
    "img=cv2.imread('image/tensorflow_model00.png')\n",
    "img=cv2.resize(img,(24,24))\n",
    "plt.imshow(img)\n",
    "img=img.flatten()/255.0\n",
    "img=img.reshape(1,24,24,3)\n",
    "print(cnn_model.predict(img))\n",
    "if np.argmax(cnn_model.predict(img))==0:\n",
    "    print('circle')\n",
    "elif np.argmax(cnn_model.predict(img))==1:\n",
    "    print('rectangle')\n",
    "elif np.argmax(cnn_model.predict(img))==2:\n",
    "    print('triangle')"
   ]
  },
  {
   "cell_type": "code",
   "execution_count": null,
   "metadata": {},
   "outputs": [],
   "source": []
  }
 ],
 "metadata": {
  "kernelspec": {
   "display_name": "Python 3",
   "language": "python",
   "name": "python3"
  },
  "language_info": {
   "codemirror_mode": {
    "name": "ipython",
    "version": 3
   },
   "file_extension": ".py",
   "mimetype": "text/x-python",
   "name": "python",
   "nbconvert_exporter": "python",
   "pygments_lexer": "ipython3",
   "version": "3.6.10"
  }
 },
 "nbformat": 4,
 "nbformat_minor": 2
}
